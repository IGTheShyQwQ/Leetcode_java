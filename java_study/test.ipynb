{
 "cells": [
  {
   "cell_type": "code",
   "execution_count": 4,
   "metadata": {},
   "outputs": [],
   "source": [
    "from pyspark.sql import SparkSession"
   ]
  },
  {
   "cell_type": "code",
   "execution_count": 5,
   "metadata": {},
   "outputs": [
    {
     "name": "stderr",
     "output_type": "stream",
     "text": [
      "24/07/30 19:03:08 WARN Utils: Your hostname, MacBook-Pro.local resolves to a loopback address: 127.0.0.1; using 10.0.0.150 instead (on interface en0)\n",
      "24/07/30 19:03:08 WARN Utils: Set SPARK_LOCAL_IP if you need to bind to another address\n",
      "Setting default log level to \"WARN\".\n",
      "To adjust logging level use sc.setLogLevel(newLevel). For SparkR, use setLogLevel(newLevel).\n",
      "24/07/30 19:03:08 WARN NativeCodeLoader: Unable to load native-hadoop library for your platform... using builtin-java classes where applicable\n"
     ]
    },
    {
     "data": {
      "text/html": [
       "\n",
       "            <div>\n",
       "                <p><b>SparkSession - in-memory</b></p>\n",
       "                \n",
       "        <div>\n",
       "            <p><b>SparkContext</b></p>\n",
       "\n",
       "            <p><a href=\"http://10.0.0.150:4040\">Spark UI</a></p>\n",
       "\n",
       "            <dl>\n",
       "              <dt>Version</dt>\n",
       "                <dd><code>v3.5.1</code></dd>\n",
       "              <dt>Master</dt>\n",
       "                <dd><code>local[*]</code></dd>\n",
       "              <dt>AppName</dt>\n",
       "                <dd><code>pyspark-shell</code></dd>\n",
       "            </dl>\n",
       "        </div>\n",
       "        \n",
       "            </div>\n",
       "        "
      ],
      "text/plain": [
       "<pyspark.sql.session.SparkSession at 0x107e85210>"
      ]
     },
     "execution_count": 5,
     "metadata": {},
     "output_type": "execute_result"
    }
   ],
   "source": [
    "spark = SparkSession.builder.getOrCreate()\n",
    "spark"
   ]
  },
  {
   "cell_type": "code",
   "execution_count": 6,
   "metadata": {},
   "outputs": [
    {
     "name": "stdout",
     "output_type": "stream",
     "text": [
      "+---------------+---------------+---------+-----------------+---------------+------+---------------+\n",
      "|    START_DATE*|      END_DATE*|CATEGORY*|           START*|          STOP*|MILES*|       PURPOSE*|\n",
      "+---------------+---------------+---------+-----------------+---------------+------+---------------+\n",
      "| 1/1/2016 21:11| 1/1/2016 21:17| Business|      Fort Pierce|    Fort Pierce|   5.1| Meal/Entertain|\n",
      "|  1/2/2016 1:25|  1/2/2016 1:37| Business|      Fort Pierce|    Fort Pierce|     5|           NULL|\n",
      "| 1/2/2016 20:25| 1/2/2016 20:38| Business|      Fort Pierce|    Fort Pierce|   4.8|Errand/Supplies|\n",
      "| 1/5/2016 17:31| 1/5/2016 17:45| Business|      Fort Pierce|    Fort Pierce|   4.7|        Meeting|\n",
      "| 1/6/2016 14:42| 1/6/2016 15:49| Business|      Fort Pierce|West Palm Beach|  63.7| Customer Visit|\n",
      "| 1/6/2016 17:15| 1/6/2016 17:19| Business|  West Palm Beach|West Palm Beach|   4.3| Meal/Entertain|\n",
      "| 1/6/2016 17:30| 1/6/2016 17:35| Business|  West Palm Beach|     Palm Beach|   7.1|        Meeting|\n",
      "| 1/7/2016 13:27| 1/7/2016 13:33| Business|             Cary|           Cary|   0.8|        Meeting|\n",
      "| 1/10/2016 8:05| 1/10/2016 8:25| Business|             Cary|    Morrisville|   8.3|        Meeting|\n",
      "|1/10/2016 12:17|1/10/2016 12:44| Business|          Jamaica|       New York|  16.5| Customer Visit|\n",
      "|1/10/2016 15:08|1/10/2016 15:51| Business|         New York|         Queens|  10.8|        Meeting|\n",
      "|1/10/2016 18:18|1/10/2016 18:53| Business|         Elmhurst|       New York|   7.5|        Meeting|\n",
      "|1/10/2016 19:12|1/10/2016 19:32| Business|          Midtown|    East Harlem|   6.2|        Meeting|\n",
      "| 1/11/2016 8:55| 1/11/2016 9:21| Business|      East Harlem|          NoMad|   6.4| Temporary Site|\n",
      "|1/11/2016 11:56|1/11/2016 12:03| Business|Flatiron District|        Midtown|   1.6|Errand/Supplies|\n",
      "|1/11/2016 13:32|1/11/2016 13:46| Business|          Midtown|   Midtown East|   1.7| Meal/Entertain|\n",
      "|1/11/2016 14:30|1/11/2016 14:43| Business|     Midtown East|        Midtown|   1.9| Meal/Entertain|\n",
      "|1/12/2016 12:33|1/12/2016 12:49| Business|          Midtown|  Hudson Square|   1.9| Meal/Entertain|\n",
      "|1/12/2016 12:53|1/12/2016 13:09| Business|    Hudson Square|Lower Manhattan|     4| Meal/Entertain|\n",
      "|1/12/2016 14:42|1/12/2016 14:56| Business|  Lower Manhattan|  Hudson Square|   1.8|Errand/Supplies|\n",
      "|1/12/2016 15:13|1/12/2016 15:28| Business|    Hudson Square| Hell's Kitchen|   2.4| Customer Visit|\n",
      "|1/12/2016 15:42|1/12/2016 15:54| Business|   Hell's Kitchen|        Midtown|     2|Errand/Supplies|\n",
      "|1/12/2016 16:02|1/12/2016 17:00| Business|         New York|  Queens County|  15.1|        Meeting|\n",
      "|1/13/2016 13:54|1/13/2016 14:07| Business|         Downtown|        Gulfton|  11.2|        Meeting|\n",
      "|1/13/2016 15:00|1/13/2016 15:28| Business|          Gulfton|       Downtown|  11.8|        Meeting|\n",
      "|1/14/2016 16:29|1/14/2016 17:05| Business|          Houston|        Houston|  21.9| Customer Visit|\n",
      "|1/14/2016 21:39|1/14/2016 21:45| Business|       Eagan Park|Jamestown Court|   3.9|Errand/Supplies|\n",
      "| 1/15/2016 0:41| 1/15/2016 1:01| Business|      Morrisville|           Cary|     8|Errand/Supplies|\n",
      "|1/15/2016 11:43|1/15/2016 12:03| Business|             Cary|         Durham|  10.4| Meal/Entertain|\n",
      "|1/15/2016 13:26|1/15/2016 13:44| Business|           Durham|           Cary|  10.4| Meal/Entertain|\n",
      "+---------------+---------------+---------+-----------------+---------------+------+---------------+\n",
      "only showing top 30 rows\n",
      "\n"
     ]
    }
   ],
   "source": [
    "file_path = '/Users/lixing/Downloads/My Uber Drives - 2016.csv'\n",
    "df = spark.read.csv(file_path, header=True)\n",
    "df.show(30)"
   ]
  },
  {
   "cell_type": "code",
   "execution_count": 11,
   "metadata": {},
   "outputs": [],
   "source": [
    "# spark.sql(\"SHOW COLUMNS IN temp_df_view\").show()\n",
    "\n",
    "df = df.withColumnRenamed(\"CATEGORY*\", \"CATEGORY\")\n",
    "df = df.withColumnRenamed(\"START_DATE*\", \"START_DATE\")\n",
    "df = df.withColumnRenamed(\"END_DATE*\", \"END_DATE\")\n",
    "df = df.withColumnRenamed(\"START*\", \"START\")\n",
    "df = df.withColumnRenamed(\"STOP*\", \"STOP\")\n",
    "df = df.withColumnRenamed(\"MILES*\", \"MILES\")\n",
    "df = df.withColumnRenamed(\"PURPOSE*\", \"PURPOSE\")\n",
    "\n",
    "\n",
    "temp_df_view = df.createOrReplaceTempView(\"temp_df_view\")\n",
    "# spark.sql(\"SELECT DISTINCT CATEGORY FROM temp_df_view LIMIT 10\").show()\n",
    "\n"
   ]
  },
  {
   "cell_type": "code",
   "execution_count": 22,
   "metadata": {},
   "outputs": [],
   "source": [
    "from pyspark.sql.types import FloatType\n",
    "filter_A = df.CATEGORY == 'Business'\n",
    "res = df.filter(filter_A)\n",
    "# pandas_df = df.toPandas()\n",
    "df.dtypes\n",
    "df = df.withColumn(\"MILES\", df.MILES.cast(FloatType()))\n",
    "df.dtypes\n",
    "\n"
   ]
  },
  {
   "cell_type": "code",
   "execution_count": null,
   "metadata": {},
   "outputs": [],
   "source": []
  }
 ],
 "metadata": {
  "kernelspec": {
   "display_name": "Python 3",
   "language": "python",
   "name": "python3"
  },
  "language_info": {
   "codemirror_mode": {
    "name": "ipython",
    "version": 3
   },
   "file_extension": ".py",
   "mimetype": "text/x-python",
   "name": "python",
   "nbconvert_exporter": "python",
   "pygments_lexer": "ipython3",
   "version": "3.11.3"
  }
 },
 "nbformat": 4,
 "nbformat_minor": 2
}
